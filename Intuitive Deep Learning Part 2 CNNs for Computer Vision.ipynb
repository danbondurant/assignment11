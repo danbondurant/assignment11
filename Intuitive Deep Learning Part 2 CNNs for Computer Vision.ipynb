{
 "cells": [
  {
   "cell_type": "code",
   "execution_count": 53,
   "id": "8b18e90c",
   "metadata": {},
   "outputs": [],
   "source": [
    "#Daniel Bon Durant\n",
    "#Date: 12/4/2023\n",
    "#Advanced Python Programming (CIS-2532-NET02)\n",
    "\n",
    "#This program demonstrates code written by Joseph Lee Wei En\n",
    "#This program is not original, simply a duplicate program to learn how the code and learn Neural Networks work.\n",
    "#Original Author: Joseph Lee Wei En\n",
    "#Duplicate Author: Daniel Bon Durant\n",
    "#link to Joseph Lee Wei En's article, Build your first Convolutional Neural Network to recognize images:\n",
    "#https://medium.com/intuitive-deep-learning/build-your-first-convolutional-neural-network-to-recognize-images-84b9c78fe0ce\n",
    "\n",
    "\n",
    "#Description: This is a duplicate of Joseph Lee Wei En's original work.\n",
    "#             This program is intended to predict the subject of an image using deeplearning. \n",
    "#             The subjects of the image are intended to be cats, dogs, horses, etc.\n",
    "#             The program intends to train a model after preprocessing some image data to fit the models learning requirements.\n",
    "#             Once the model has been trained, I will provide it with an image obtained from Joseph Lee Wei En\n",
    "#             This will test the model and see if it can correctly identify a cat.\n"
   ]
  },
  {
   "cell_type": "code",
   "execution_count": 54,
   "id": "762bfdef",
   "metadata": {},
   "outputs": [],
   "source": [
    "#download the dataset, set the image data to arrays of training and testing data\n",
    "from keras.datasets import cifar10\n",
    "(x_train, y_train), (x_test, y_test) = cifar10.load_data()"
   ]
  },
  {
   "cell_type": "code",
   "execution_count": 55,
   "id": "006ce0fa",
   "metadata": {},
   "outputs": [
    {
     "name": "stdout",
     "output_type": "stream",
     "text": [
      "x_train shape: (50000, 32, 32, 3)\n"
     ]
    }
   ],
   "source": [
    "#determine the shape of the input feature array\n",
    "print('x_train shape:', x_train.shape)\n",
    "\n",
    "#shape is 5000 images, 32 pixels in height, 32 pixels in width, and 3 pixels in depth"
   ]
  },
  {
   "cell_type": "code",
   "execution_count": 56,
   "id": "e3562420",
   "metadata": {},
   "outputs": [
    {
     "name": "stdout",
     "output_type": "stream",
     "text": [
      "y_train shape: (50000, 1)\n"
     ]
    }
   ],
   "source": [
    "#determine shape of the label array\n",
    "print('y_train shape:', y_train.shape)\n",
    "\n",
    "#one number for each 50000 images."
   ]
  },
  {
   "cell_type": "code",
   "execution_count": 57,
   "id": "45cb20d7",
   "metadata": {
    "scrolled": true
   },
   "outputs": [
    {
     "name": "stdout",
     "output_type": "stream",
     "text": [
      "[[[ 59  62  63]\n",
      "  [ 43  46  45]\n",
      "  [ 50  48  43]\n",
      "  ...\n",
      "  [158 132 108]\n",
      "  [152 125 102]\n",
      "  [148 124 103]]\n",
      "\n",
      " [[ 16  20  20]\n",
      "  [  0   0   0]\n",
      "  [ 18   8   0]\n",
      "  ...\n",
      "  [123  88  55]\n",
      "  [119  83  50]\n",
      "  [122  87  57]]\n",
      "\n",
      " [[ 25  24  21]\n",
      "  [ 16   7   0]\n",
      "  [ 49  27   8]\n",
      "  ...\n",
      "  [118  84  50]\n",
      "  [120  84  50]\n",
      "  [109  73  42]]\n",
      "\n",
      " ...\n",
      "\n",
      " [[208 170  96]\n",
      "  [201 153  34]\n",
      "  [198 161  26]\n",
      "  ...\n",
      "  [160 133  70]\n",
      "  [ 56  31   7]\n",
      "  [ 53  34  20]]\n",
      "\n",
      " [[180 139  96]\n",
      "  [173 123  42]\n",
      "  [186 144  30]\n",
      "  ...\n",
      "  [184 148  94]\n",
      "  [ 97  62  34]\n",
      "  [ 83  53  34]]\n",
      "\n",
      " [[177 144 116]\n",
      "  [168 129  94]\n",
      "  [179 142  87]\n",
      "  ...\n",
      "  [216 184 140]\n",
      "  [151 118  84]\n",
      "  [123  92  72]]]\n"
     ]
    }
   ],
   "source": [
    "#example of an image\n",
    "print(x_train[0])\n",
    "#this format is unfriendly to a human observer, it is how the cpu would 'see' the images"
   ]
  },
  {
   "cell_type": "code",
   "execution_count": 58,
   "id": "04cc14c2",
   "metadata": {},
   "outputs": [
    {
     "data": {
      "image/png": "[encoded data removed]",
      "text/plain": [
       "<Figure size 640x480 with 1 Axes>"
      ]
     },
     "metadata": {},
     "output_type": "display_data"
    }
   ],
   "source": [
    "#to do this, we need to import packages\n",
    "import matplotlib.pyplot as plt\n",
    "%matplotlib inline\n",
    "#tells notebook the image should display within the image\n",
    "\n",
    "#imshow displays the numbered pixels from the actual image\n",
    "img = plt.imshow(x_train[0])"
   ]
  },
  {
   "cell_type": "code",
   "execution_count": 59,
   "id": "1d957ed2",
   "metadata": {},
   "outputs": [
    {
     "name": "stdout",
     "output_type": "stream",
     "text": [
      "The label is: [6]\n"
     ]
    }
   ],
   "source": [
    "#determine the corresponding label with the above image\n",
    "print('The label is:', y_train[0])"
   ]
  },
  {
   "cell_type": "code",
   "execution_count": 60,
   "id": "61409342",
   "metadata": {},
   "outputs": [
    {
     "name": "stdout",
     "output_type": "stream",
     "text": [
      "0:airplane\n",
      "1:automobile\n",
      "2:bird\n",
      "3:cat\n",
      "4:deer\n",
      "5:dog\n",
      "6:frog\n",
      "7:horse\n",
      "8:ship\n",
      "9:truck\n"
     ]
    }
   ],
   "source": [
    "print('0:airplane\\n1:automobile\\n2:bird\\n3:cat\\n4:deer\\n5:dog\\n6:frog\\n7:horse\\n8:ship\\n9:truck')"
   ]
  },
  {
   "cell_type": "code",
   "execution_count": 61,
   "id": "49ecf745",
   "metadata": {},
   "outputs": [
    {
     "data": {
      "image/png": "[encoded data removed]",
      "text/plain": [
       "<Figure size 640x480 with 1 Axes>"
      ]
     },
     "metadata": {},
     "output_type": "display_data"
    }
   ],
   "source": [
    "#show the second image in the dataset\n",
    "img = plt.imshow(x_train[1])"
   ]
  },
  {
   "cell_type": "code",
   "execution_count": 62,
   "id": "0dcb5af4",
   "metadata": {},
   "outputs": [
    {
     "name": "stdout",
     "output_type": "stream",
     "text": [
      "The label is: [9]\n"
     ]
    }
   ],
   "source": [
    "#display the label\n",
    "print('The label is:', y_train[1])"
   ]
  },
  {
   "cell_type": "code",
   "execution_count": 63,
   "id": "6b0f4f2d",
   "metadata": {},
   "outputs": [
    {
     "name": "stdout",
     "output_type": "stream",
     "text": [
      "The one hot label is: [0. 0. 0. 0. 0. 0. 0. 0. 0. 1.]\n"
     ]
    }
   ],
   "source": [
    "#begin processing labels\n",
    "import keras\n",
    "\n",
    "#these are converting the initial array into one hot encodings. 10 is the number of neurons\n",
    "y_train_one_hot = keras.utils.to_categorical(y_train, 10)\n",
    "y_test_one_hot = keras.utils.to_categorical(y_test, 10)\n",
    "\n",
    "print('The one hot label is:', y_train_one_hot[1])"
   ]
  },
  {
   "cell_type": "code",
   "execution_count": 64,
   "id": "b3465b9c",
   "metadata": {},
   "outputs": [],
   "source": [
    "#begin processing images\n",
    "#set the data type as float 32\n",
    "x_train = x_train.astype('float32')\n",
    "x_test = x_test.astype('float32')\n",
    "\n",
    "#divide by 255 to get all pixel values to be between 0 and 1\n",
    "x_train = x_train / 255\n",
    "x_test = x_test / 255"
   ]
  },
  {
   "cell_type": "code",
   "execution_count": 65,
   "id": "29064999",
   "metadata": {},
   "outputs": [
    {
     "data": {
      "text/plain": [
       "array([[[0.23137255, 0.24313726, 0.24705882],\n",
       "        [0.16862746, 0.18039216, 0.1764706 ],\n",
       "        [0.19607843, 0.1882353 , 0.16862746],\n",
       "        ...,\n",
       "        [0.61960787, 0.5176471 , 0.42352942],\n",
       "        [0.59607846, 0.49019608, 0.4       ],\n",
       "        [0.5803922 , 0.4862745 , 0.40392157]],\n",
       "\n",
       "       [[0.0627451 , 0.07843138, 0.07843138],\n",
       "        [0.        , 0.        , 0.        ],\n",
       "        [0.07058824, 0.03137255, 0.        ],\n",
       "        ...,\n",
       "        [0.48235294, 0.34509805, 0.21568628],\n",
       "        [0.46666667, 0.3254902 , 0.19607843],\n",
       "        [0.47843137, 0.34117648, 0.22352941]],\n",
       "\n",
       "       [[0.09803922, 0.09411765, 0.08235294],\n",
       "        [0.0627451 , 0.02745098, 0.        ],\n",
       "        [0.19215687, 0.10588235, 0.03137255],\n",
       "        ...,\n",
       "        [0.4627451 , 0.32941177, 0.19607843],\n",
       "        [0.47058824, 0.32941177, 0.19607843],\n",
       "        [0.42745098, 0.28627452, 0.16470589]],\n",
       "\n",
       "       ...,\n",
       "\n",
       "       [[0.8156863 , 0.6666667 , 0.3764706 ],\n",
       "        [0.7882353 , 0.6       , 0.13333334],\n",
       "        [0.7764706 , 0.6313726 , 0.10196079],\n",
       "        ...,\n",
       "        [0.627451  , 0.52156866, 0.27450982],\n",
       "        [0.21960784, 0.12156863, 0.02745098],\n",
       "        [0.20784314, 0.13333334, 0.07843138]],\n",
       "\n",
       "       [[0.7058824 , 0.54509807, 0.3764706 ],\n",
       "        [0.6784314 , 0.48235294, 0.16470589],\n",
       "        [0.7294118 , 0.5647059 , 0.11764706],\n",
       "        ...,\n",
       "        [0.72156864, 0.5803922 , 0.36862746],\n",
       "        [0.38039216, 0.24313726, 0.13333334],\n",
       "        [0.3254902 , 0.20784314, 0.13333334]],\n",
       "\n",
       "       [[0.69411767, 0.5647059 , 0.45490196],\n",
       "        [0.65882355, 0.5058824 , 0.36862746],\n",
       "        [0.7019608 , 0.5568628 , 0.34117648],\n",
       "        ...,\n",
       "        [0.84705883, 0.72156864, 0.54901963],\n",
       "        [0.5921569 , 0.4627451 , 0.32941177],\n",
       "        [0.48235294, 0.36078432, 0.28235295]]], dtype=float32)"
      ]
     },
     "execution_count": 65,
     "metadata": {},
     "output_type": "execute_result"
    }
   ],
   "source": [
    "#examine the array values of the first training image\n",
    "x_train[0]"
   ]
  },
  {
   "cell_type": "code",
   "execution_count": 66,
   "id": "8a89bce4",
   "metadata": {},
   "outputs": [],
   "source": [
    "#before creating layers, need to import package\n",
    "from keras.models import Sequential\n",
    "from keras.layers import Dense, Dropout, Flatten, Conv2D, MaxPooling2D"
   ]
  },
  {
   "cell_type": "code",
   "execution_count": 67,
   "id": "6b9391e9",
   "metadata": {},
   "outputs": [],
   "source": [
    "#call an empty sequential model\n",
    "model = Sequential()\n",
    "\n",
    "#add to it one layer at a time. model.add() is called to do so\n",
    "#32 refers to depth, 3,3 refers to filter width and size, respectively. relu is the activation and padding is the same\n",
    "#stride defaults to 1\n",
    "model.add(Conv2D(32, (3, 3), activation='relu', padding='same', input_shape=(32,32,3)))\n",
    "\n",
    "#add the second layer\n",
    "model.add(Conv2D(32, (3, 3), activation='relu', padding='same'))\n",
    "\n",
    "#add the third layer\n",
    "model.add(MaxPooling2D(pool_size=(2, 2)))\n",
    "\n",
    "#add the fourth\n",
    "model.add(Dropout(0.25))\n",
    "\n",
    "#rest of the layers \n",
    "model.add(Conv2D(64, (3, 3), activation='relu', padding='same'))\n",
    "model.add(Conv2D(64, (3, 3), activation='relu', padding='same'))\n",
    "model.add(MaxPooling2D(pool_size=(2, 2)))\n",
    "model.add(Dropout(0.25))\n",
    "\n",
    "#flatten the neurons\n",
    "model.add(Flatten())\n",
    "\n",
    "model.add(Dense(512, activation='relu'))\n",
    "\n",
    "#add another dropout probability\n",
    "model.add(Dropout(0.5))\n",
    "\n",
    "#dense FC layer with 10 nerons, softmax activation\n",
    "model.add(Dense(10, activation='softmax'))"
   ]
  },
  {
   "cell_type": "code",
   "execution_count": 68,
   "id": "0dcaeda8",
   "metadata": {},
   "outputs": [
    {
     "name": "stdout",
     "output_type": "stream",
     "text": [
      "Model: \"sequential_2\"\n",
      "_________________________________________________________________\n",
      " Layer (type)                Output Shape              Param #   \n",
      "=================================================================\n",
      " conv2d_4 (Conv2D)           (None, 32, 32, 32)        896       \n",
      "                                                                 \n",
      " conv2d_5 (Conv2D)           (None, 32, 32, 32)        9248      \n",
      "                                                                 \n",
      " max_pooling2d_2 (MaxPoolin  (None, 16, 16, 32)        0         \n",
      " g2D)                                                            \n",
      "                                                                 \n",
      " dropout_3 (Dropout)         (None, 16, 16, 32)        0         \n",
      "                                                                 \n",
      " conv2d_6 (Conv2D)           (None, 16, 16, 64)        18496     \n",
      "                                                                 \n",
      " conv2d_7 (Conv2D)           (None, 16, 16, 64)        36928     \n",
      "                                                                 \n",
      " max_pooling2d_3 (MaxPoolin  (None, 8, 8, 64)          0         \n",
      " g2D)                                                            \n",
      "                                                                 \n",
      " dropout_4 (Dropout)         (None, 8, 8, 64)          0         \n",
      "                                                                 \n",
      " flatten_1 (Flatten)         (None, 4096)              0         \n",
      "                                                                 \n",
      " dense_2 (Dense)             (None, 512)               2097664   \n",
      "                                                                 \n",
      " dropout_5 (Dropout)         (None, 512)               0         \n",
      "                                                                 \n",
      " dense_3 (Dense)             (None, 10)                5130      \n",
      "                                                                 \n",
      "=================================================================\n",
      "Total params: 2168362 (8.27 MB)\n",
      "Trainable params: 2168362 (8.27 MB)\n",
      "Non-trainable params: 0 (0.00 Byte)\n",
      "_________________________________________________________________\n"
     ]
    }
   ],
   "source": [
    "#get summary of model architecture\n",
    "model.summary()"
   ]
  },
  {
   "cell_type": "code",
   "execution_count": 69,
   "id": "e2b1d9d0",
   "metadata": {},
   "outputs": [
    {
     "name": "stdout",
     "output_type": "stream",
     "text": [
      "Epoch 1/20\n",
      "1250/1250 [==============================] - 68s 53ms/step - loss: 1.5492 - accuracy: 0.4369 - val_loss: 1.2170 - val_accuracy: 0.5657\n",
      "Epoch 2/20\n",
      "1250/1250 [==============================] - 62s 50ms/step - loss: 1.1369 - accuracy: 0.5937 - val_loss: 0.9551 - val_accuracy: 0.6646\n",
      "Epoch 3/20\n",
      "1250/1250 [==============================] - 62s 50ms/step - loss: 0.9770 - accuracy: 0.6557 - val_loss: 0.8283 - val_accuracy: 0.7090\n",
      "Epoch 4/20\n",
      "1250/1250 [==============================] - 62s 50ms/step - loss: 0.8748 - accuracy: 0.6923 - val_loss: 0.7903 - val_accuracy: 0.7253\n",
      "Epoch 5/20\n",
      "1250/1250 [==============================] - 61s 49ms/step - loss: 0.8043 - accuracy: 0.7155 - val_loss: 0.7522 - val_accuracy: 0.7380\n",
      "Epoch 6/20\n",
      "1250/1250 [==============================] - 61s 49ms/step - loss: 0.7404 - accuracy: 0.7380 - val_loss: 0.7218 - val_accuracy: 0.7496\n",
      "Epoch 7/20\n",
      "1250/1250 [==============================] - 63s 50ms/step - loss: 0.6938 - accuracy: 0.7557 - val_loss: 0.7094 - val_accuracy: 0.7538\n",
      "Epoch 8/20\n",
      "1250/1250 [==============================] - 63s 51ms/step - loss: 0.6563 - accuracy: 0.7685 - val_loss: 0.6791 - val_accuracy: 0.7673\n",
      "Epoch 9/20\n",
      "1250/1250 [==============================] - 66s 53ms/step - loss: 0.6162 - accuracy: 0.7825 - val_loss: 0.7195 - val_accuracy: 0.7546\n",
      "Epoch 10/20\n",
      "1250/1250 [==============================] - 68s 55ms/step - loss: 0.5926 - accuracy: 0.7917 - val_loss: 0.6754 - val_accuracy: 0.7704\n",
      "Epoch 11/20\n",
      "1250/1250 [==============================] - 69s 55ms/step - loss: 0.5562 - accuracy: 0.8030 - val_loss: 0.6760 - val_accuracy: 0.7714\n",
      "Epoch 12/20\n",
      "1250/1250 [==============================] - 68s 55ms/step - loss: 0.5291 - accuracy: 0.8127 - val_loss: 0.6946 - val_accuracy: 0.7677\n",
      "Epoch 13/20\n",
      "1250/1250 [==============================] - 65s 52ms/step - loss: 0.5132 - accuracy: 0.8195 - val_loss: 0.6869 - val_accuracy: 0.7672\n",
      "Epoch 14/20\n",
      "1250/1250 [==============================] - 67s 53ms/step - loss: 0.4944 - accuracy: 0.8254 - val_loss: 0.6782 - val_accuracy: 0.7756\n",
      "Epoch 15/20\n",
      "1250/1250 [==============================] - 64s 51ms/step - loss: 0.4702 - accuracy: 0.8343 - val_loss: 0.7140 - val_accuracy: 0.7687\n",
      "Epoch 16/20\n",
      "1250/1250 [==============================] - 63s 50ms/step - loss: 0.4580 - accuracy: 0.8383 - val_loss: 0.6968 - val_accuracy: 0.7773\n",
      "Epoch 17/20\n",
      "1250/1250 [==============================] - 60s 48ms/step - loss: 0.4380 - accuracy: 0.8453 - val_loss: 0.6730 - val_accuracy: 0.7764\n",
      "Epoch 18/20\n",
      "1250/1250 [==============================] - 60s 48ms/step - loss: 0.4301 - accuracy: 0.8464 - val_loss: 0.6630 - val_accuracy: 0.7809\n",
      "Epoch 19/20\n",
      "1250/1250 [==============================] - 61s 49ms/step - loss: 0.4205 - accuracy: 0.8513 - val_loss: 0.6905 - val_accuracy: 0.7748\n",
      "Epoch 20/20\n",
      "1250/1250 [==============================] - 61s 49ms/step - loss: 0.4042 - accuracy: 0.8571 - val_loss: 0.6975 - val_accuracy: 0.7808\n"
     ]
    }
   ],
   "source": [
    "#compile the model \n",
    "model.compile(loss='categorical_crossentropy',\n",
    "              optimizer='adam',\n",
    "              metrics=['accuracy'])\n",
    "\n",
    "#run the training\n",
    "hist = model.fit(x_train, y_train_one_hot, \n",
    "           batch_size=32, epochs=20, \n",
    "           validation_split=0.2)\n",
    "#validation split of .2 specifies that 20% of the data is the validation set. This reduces total # lines and is efficient"
   ]
  },
  {
   "cell_type": "code",
   "execution_count": 70,
   "id": "90575315",
   "metadata": {},
   "outputs": [
    {
     "data": {
      "image/png": "[encoded data removed]",
      "text/plain": [
       "<Figure size 640x480 with 1 Axes>"
      ]
     },
     "metadata": {},
     "output_type": "display_data"
    }
   ],
   "source": [
    "#need matplotlib\n",
    "import matplotlib.pyplot as plt\n",
    "\n",
    "\n",
    "\n",
    "#graphing code very similar to the first problems graphing\n",
    "#plot the loss\n",
    "plt.plot(hist.history['loss'])\n",
    "plt.plot(hist.history['val_loss'])\n",
    "plt.title('Model loss')\n",
    "plt.ylabel('Loss')\n",
    "plt.xlabel('Epoch')\n",
    "plt.legend(['Train', 'Val'], loc='upper right')\n",
    "plt.show()"
   ]
  },
  {
   "cell_type": "code",
   "execution_count": 71,
   "id": "aca04993",
   "metadata": {},
   "outputs": [
    {
     "data": {
      "image/png": "[encoded data removed]",
      "text/plain": [
       "<Figure size 640x480 with 1 Axes>"
      ]
     },
     "metadata": {},
     "output_type": "display_data"
    }
   ],
   "source": [
    "#visualize the accuracy\n",
    "plt.plot(hist.history['accuracy'])\n",
    "plt.plot(hist.history['val_accuracy'])\n",
    "plt.title('Model accuracy')\n",
    "plt.ylabel('Accuracy')\n",
    "plt.xlabel('Epoch')\n",
    "plt.legend(['Train', 'Val'], loc='lower right')\n",
    "plt.show()"
   ]
  },
  {
   "cell_type": "code",
   "execution_count": 72,
   "id": "a57fab05",
   "metadata": {},
   "outputs": [
    {
     "name": "stdout",
     "output_type": "stream",
     "text": [
      "313/313 [==============================] - 4s 12ms/step - loss: 0.7310 - accuracy: 0.7748\n"
     ]
    },
    {
     "data": {
      "text/plain": [
       "0.7748000025749207"
      ]
     },
     "execution_count": 72,
     "metadata": {},
     "output_type": "execute_result"
    }
   ],
   "source": [
    "#evaluate the models accuracy, as a %\n",
    "model.evaluate(x_test, y_test_one_hot)[1]"
   ]
  },
  {
   "cell_type": "code",
   "execution_count": 73,
   "id": "ed976c51",
   "metadata": {},
   "outputs": [],
   "source": [
    "#save the model so it doesn't need to be retrained\n",
    "model.save('my_cifar10_model.h5')\n",
    "\n",
    "#to use this model in other code, use this line\n",
    "#from keras.models import load_model\n",
    "#model = load_model('my_cifar10_model.h5')\n",
    "\n"
   ]
  },
  {
   "cell_type": "code",
   "execution_count": 74,
   "id": "117d140a",
   "metadata": {},
   "outputs": [
    {
     "data": {
      "image/png": "[encoded data removed]",
      "text/plain": [
       "<Figure size 640x480 with 1 Axes>"
      ]
     },
     "metadata": {},
     "output_type": "display_data"
    }
   ],
   "source": [
    "#testing the model using images of our \"own\" cats. The image was given by the author of this program, Joseph Lee Wei En\n",
    "#read the image as an array of pixel values\n",
    "my_image = plt.imread(\"cat.jpg\")\n",
    "\n",
    "#need to resize the image into a 32 32 3 format. 32 pixels, 32 pixels, \n",
    "#for this scikit-image must be installed, doing that externally\n",
    "\n",
    "from skimage.transform import resize\n",
    "\n",
    "#resize the image\n",
    "my_image_resized = resize(my_image, (32,32,3))\n",
    "\n",
    "#visualize the resized image\n",
    "img = plt.imshow(my_image_resized)"
   ]
  },
  {
   "cell_type": "code",
   "execution_count": 75,
   "id": "24f10ca6",
   "metadata": {},
   "outputs": [
    {
     "name": "stdout",
     "output_type": "stream",
     "text": [
      "1/1 [==============================] - 0s 121ms/step\n"
     ]
    }
   ],
   "source": [
    "#feed the training model the image of the cat\n",
    "import numpy as np\n",
    "\n",
    "#numpy.array is used to alter the 3d array we have for the cat image into a 4d array, so the probabilities can use a 4-d input\n",
    "probabilities = model.predict(np.array( [my_image_resized,] ))"
   ]
  },
  {
   "cell_type": "code",
   "execution_count": 76,
   "id": "a6b02589",
   "metadata": {},
   "outputs": [
    {
     "data": {
      "text/plain": [
       "array([[2.4957483e-04, 1.0099733e-05, 4.5509352e-03, 4.0942255e-01,\n",
       "        6.0798302e-02, 2.6879981e-01, 1.3408976e-03, 2.5412929e-01,\n",
       "        2.8151033e-05, 6.7030755e-04]], dtype=float32)"
      ]
     },
     "execution_count": 76,
     "metadata": {},
     "output_type": "execute_result"
    }
   ],
   "source": [
    "#run the probabilities to see the entire array\n",
    "probabilities"
   ]
  },
  {
   "cell_type": "code",
   "execution_count": 77,
   "id": "3285e0e7",
   "metadata": {},
   "outputs": [
    {
     "name": "stdout",
     "output_type": "stream",
     "text": [
      "Most likely class: cat -- Probability: 0.40942255\n",
      "Second most likely class: dog -- Probability: 0.2687998\n",
      "Third most likely class: horse -- Probability: 0.2541293\n",
      "Fourth most likely class: deer -- Probability: 0.060798302\n",
      "Fifth most likely class: bird -- Probability: 0.0045509352\n"
     ]
    }
   ],
   "source": [
    "#The following code snippet just formats the propobabliity outputs to make the probabilities more user friendly\n",
    "number_to_class = ['airplane', 'automobile', 'bird', 'cat', 'deer', 'dog', 'frog', 'horse', 'ship', 'truck']\n",
    "index = np.argsort(probabilities[0,:])\n",
    "print(\"Most likely class:\", number_to_class[index[9]], \"-- Probability:\", probabilities[0,index[9]])\n",
    "print(\"Second most likely class:\", number_to_class[index[8]], \"-- Probability:\", probabilities[0,index[8]])\n",
    "print(\"Third most likely class:\", number_to_class[index[7]], \"-- Probability:\", probabilities[0,index[7]])\n",
    "print(\"Fourth most likely class:\", number_to_class[index[6]], \"-- Probability:\", probabilities[0,index[6]])\n",
    "print(\"Fifth most likely class:\", number_to_class[index[5]], \"-- Probability:\", probabilities[0,index[5]])"
   ]
  },
  {
   "cell_type": "code",
   "execution_count": 78,
   "id": "580974ea",
   "metadata": {},
   "outputs": [
    {
     "name": "stdout",
     "output_type": "stream",
     "text": [
      "The model thinks this is mostly a dog, or a deer, with a cat in third. It is obviously wrong.\n"
     ]
    }
   ],
   "source": []
  },
  {
   "cell_type": "code",
   "execution_count": null,
   "id": "fdbd9abb",
   "metadata": {},
   "outputs": [],
   "source": []
  }
 ],
 "metadata": {
  "kernelspec": {
   "display_name": "Python 3 (ipykernel)",
   "language": "python",
   "name": "python3"
  },
  "language_info": {
   "codemirror_mode": {
    "name": "ipython",
    "version": 3
   },
   "file_extension": ".py",
   "mimetype": "text/x-python",
   "name": "python",
   "nbconvert_exporter": "python",
   "pygments_lexer": "ipython3",
   "version": "3.11.5"
  }
 },
 "nbformat": 4,
 "nbformat_minor": 5
}
